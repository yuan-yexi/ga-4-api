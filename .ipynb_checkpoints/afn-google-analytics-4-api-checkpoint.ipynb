{
 "cells": [
  {
   "cell_type": "code",
   "execution_count": 1,
   "metadata": {},
   "outputs": [],
   "source": [
    "\"\"\"Hello Analytics Reporting API V4.\"\"\"\n",
    "\n",
    "from apiclient.discovery import build\n",
    "from oauth2client.service_account import ServiceAccountCredentials\n",
    "\n",
    "\n",
    "SCOPES = ['https://www.googleapis.com/auth/analytics.readonly']\n",
    "KEY_FILE_LOCATION = 'AFN-Google-Analytics-aaec7e7fd2f2.json'\n",
    "VIEW_ID = '201412152'"
   ]
  },
  {
   "cell_type": "code",
   "execution_count": 2,
   "metadata": {},
   "outputs": [],
   "source": [
    "def initialize_analyticsreporting():\n",
    "  \"\"\"Initializes an Analytics Reporting API V4 service object.\n",
    "\n",
    "  Returns:\n",
    "    An authorized Analytics Reporting API V4 service object.\n",
    "  \"\"\"\n",
    "  credentials = ServiceAccountCredentials.from_json_keyfile_name(\n",
    "      KEY_FILE_LOCATION, SCOPES)\n",
    "\n",
    "  # Build the service object.\n",
    "  analytics = build('analyticsreporting', 'v4', credentials=credentials)\n",
    "\n",
    "  return analytics"
   ]
  },
  {
   "cell_type": "code",
   "execution_count": 3,
   "metadata": {},
   "outputs": [],
   "source": [
    "def get_report(analytics):\n",
    "  \"\"\"Queries the Analytics Reporting API V4.\n",
    "\n",
    "  Args:\n",
    "    analytics: An authorized Analytics Reporting API V4 service object.\n",
    "  Returns:\n",
    "    The Analytics Reporting API V4 response.\n",
    "  \"\"\"\n",
    "  return analytics.reports().batchGet(\n",
    "      body={\n",
    "        'reportRequests': [\n",
    "        {\n",
    "          'viewId': VIEW_ID,\n",
    "          'dateRanges': [{'startDate': '7daysAgo', 'endDate': 'today'}],\n",
    "          'metrics': [{'expression': 'ga:sessions'}],\n",
    "          'dimensions': [{'name': 'ga:country'}]\n",
    "        }]\n",
    "      }\n",
    "  ).execute()"
   ]
  },
  {
   "cell_type": "code",
   "execution_count": 4,
   "metadata": {},
   "outputs": [],
   "source": [
    "def get_source_medium_report(analytics):\n",
    "  \"\"\"Queries the Analytics Reporting API V4.\n",
    "\n",
    "  Args:\n",
    "    analytics: An authorized Analytics Reporting API V4 service object.\n",
    "  Returns:\n",
    "    The Analytics Reporting API V4 response.\n",
    "  \"\"\"\n",
    "  return analytics.reports().batchGet(\n",
    "      body={\n",
    "        'reportRequests': [\n",
    "        {\n",
    "          'viewId': VIEW_ID,\n",
    "          'dateRanges': [{'startDate': '7daysAgo', 'endDate': 'today'}],\n",
    "          'metrics': [{'expression': 'ga:users'}],\n",
    "          'dimensions': [{'name': 'ga:sourceMedium'}]\n",
    "        }]\n",
    "      }\n",
    "  ).execute()"
   ]
  },
  {
   "cell_type": "code",
   "execution_count": 5,
   "metadata": {},
   "outputs": [],
   "source": [
    "def print_response(response):\n",
    "  \"\"\"Parses and prints the Analytics Reporting API V4 response.\n",
    "\n",
    "  Args:\n",
    "    response: An Analytics Reporting API V4 response.\n",
    "  \"\"\"\n",
    "  for report in response.get('reports', []):\n",
    "    columnHeader = report.get('columnHeader', {})\n",
    "    dimensionHeaders = columnHeader.get('dimensions', [])\n",
    "    metricHeaders = columnHeader.get('metricHeader', {}).get('metricHeaderEntries', [])\n",
    "\n",
    "    for row in report.get('data', {}).get('rows', []):\n",
    "      dimensions = row.get('dimensions', [])\n",
    "      dateRangeValues = row.get('metrics', [])\n",
    "\n",
    "      for header, dimension in zip(dimensionHeaders, dimensions):\n",
    "        print(header + ': ', dimension)\n",
    "\n",
    "      for i, values in enumerate(dateRangeValues):\n",
    "        print('Date range:', str(i))\n",
    "        for metricHeader, value in zip(metricHeaders, values.get('values')):\n",
    "          print(metricHeader.get('name') + ':', value)"
   ]
  },
  {
   "cell_type": "code",
   "execution_count": 6,
   "metadata": {},
   "outputs": [],
   "source": [
    "def main():\n",
    "  analytics = initialize_analyticsreporting()\n",
    "  response = get_source_medium_report(analytics)\n",
    "  print_response(response)"
   ]
  },
  {
   "cell_type": "code",
   "execution_count": 7,
   "metadata": {},
   "outputs": [
    {
     "ename": "AttributeError",
     "evalue": "'function' object has no attribute 'reports'",
     "output_type": "error",
     "traceback": [
      "\u001b[0;31m---------------------------------------------------------------------------\u001b[0m",
      "\u001b[0;31mAttributeError\u001b[0m                            Traceback (most recent call last)",
      "\u001b[0;32m<ipython-input-7-263240bbee7e>\u001b[0m in \u001b[0;36m<module>\u001b[0;34m\u001b[0m\n\u001b[0;32m----> 1\u001b[0;31m \u001b[0mmain\u001b[0m\u001b[0;34m(\u001b[0m\u001b[0;34m)\u001b[0m\u001b[0;34m\u001b[0m\u001b[0;34m\u001b[0m\u001b[0m\n\u001b[0m",
      "\u001b[0;32m<ipython-input-6-9aa1050c13f5>\u001b[0m in \u001b[0;36mmain\u001b[0;34m()\u001b[0m\n\u001b[1;32m      1\u001b[0m \u001b[0;32mdef\u001b[0m \u001b[0mmain\u001b[0m\u001b[0;34m(\u001b[0m\u001b[0;34m)\u001b[0m\u001b[0;34m:\u001b[0m\u001b[0;34m\u001b[0m\u001b[0;34m\u001b[0m\u001b[0m\n\u001b[1;32m      2\u001b[0m   \u001b[0manalytics\u001b[0m \u001b[0;34m=\u001b[0m \u001b[0minitialize_analyticsreporting\u001b[0m\u001b[0;34m(\u001b[0m\u001b[0;34m)\u001b[0m\u001b[0;34m\u001b[0m\u001b[0;34m\u001b[0m\u001b[0m\n\u001b[0;32m----> 3\u001b[0;31m   \u001b[0mresponse\u001b[0m \u001b[0;34m=\u001b[0m \u001b[0mget_report\u001b[0m\u001b[0;34m(\u001b[0m\u001b[0mget_source_medium_report\u001b[0m\u001b[0;34m)\u001b[0m\u001b[0;34m\u001b[0m\u001b[0;34m\u001b[0m\u001b[0m\n\u001b[0m\u001b[1;32m      4\u001b[0m   \u001b[0mprint_response\u001b[0m\u001b[0;34m(\u001b[0m\u001b[0mresponse\u001b[0m\u001b[0;34m)\u001b[0m\u001b[0;34m\u001b[0m\u001b[0;34m\u001b[0m\u001b[0m\n",
      "\u001b[0;32m<ipython-input-3-ca4e129c1a71>\u001b[0m in \u001b[0;36mget_report\u001b[0;34m(analytics)\u001b[0m\n\u001b[1;32m      7\u001b[0m     \u001b[0mThe\u001b[0m \u001b[0mAnalytics\u001b[0m \u001b[0mReporting\u001b[0m \u001b[0mAPI\u001b[0m \u001b[0mV4\u001b[0m \u001b[0mresponse\u001b[0m\u001b[0;34m.\u001b[0m\u001b[0;34m\u001b[0m\u001b[0;34m\u001b[0m\u001b[0m\n\u001b[1;32m      8\u001b[0m   \"\"\"\n\u001b[0;32m----> 9\u001b[0;31m   return analytics.reports().batchGet(\n\u001b[0m\u001b[1;32m     10\u001b[0m       body={\n\u001b[1;32m     11\u001b[0m         'reportRequests': [\n",
      "\u001b[0;31mAttributeError\u001b[0m: 'function' object has no attribute 'reports'"
     ]
    }
   ],
   "source": [
    "main()"
   ]
  }
 ],
 "metadata": {
  "kernelspec": {
   "display_name": "env",
   "language": "python",
   "name": "env"
  },
  "language_info": {
   "codemirror_mode": {
    "name": "ipython",
    "version": 3
   },
   "file_extension": ".py",
   "mimetype": "text/x-python",
   "name": "python",
   "nbconvert_exporter": "python",
   "pygments_lexer": "ipython3",
   "version": "3.7.6"
  }
 },
 "nbformat": 4,
 "nbformat_minor": 4
}
