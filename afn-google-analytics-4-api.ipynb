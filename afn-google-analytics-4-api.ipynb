{
 "cells": [
  {
   "cell_type": "code",
   "execution_count": 1,
   "metadata": {},
   "outputs": [],
   "source": [
    "\"\"\"Hello Analytics Reporting API V4.\"\"\"\n",
    "\n",
    "from apiclient.discovery import build\n",
    "from oauth2client.service_account import ServiceAccountCredentials\n",
    "import pandas as pd\n",
    "import numpy as np\n",
    "\n",
    "SCOPES = ['https://www.googleapis.com/auth/analytics.readonly']\n",
    "KEY_FILE_LOCATION = 'AFN-Google-Analytics-aaec7e7fd2f2.json'\n",
    "VIEW_ID = '201412152'"
   ]
  },
  {
   "cell_type": "code",
   "execution_count": 2,
   "metadata": {},
   "outputs": [],
   "source": [
    "def initialize_analyticsreporting():\n",
    "  \"\"\"Initializes an Analytics Reporting API V4 service object.\n",
    "\n",
    "  Returns:\n",
    "    An authorized Analytics Reporting API V4 service object.\n",
    "  \"\"\"\n",
    "  credentials = ServiceAccountCredentials.from_json_keyfile_name(\n",
    "      KEY_FILE_LOCATION, SCOPES)\n",
    "\n",
    "  # Build the service object.\n",
    "  analytics = build('analyticsreporting', 'v4', credentials=credentials)\n",
    "\n",
    "  return analytics"
   ]
  },
  {
   "cell_type": "code",
   "execution_count": 3,
   "metadata": {},
   "outputs": [],
   "source": [
    "def get_report(analytics):\n",
    "  \"\"\"Queries the Analytics Reporting API V4.\n",
    "\n",
    "  Args:\n",
    "    analytics: An authorized Analytics Reporting API V4 service object.\n",
    "  Returns:\n",
    "    The Analytics Reporting API V4 response.\n",
    "  \"\"\"\n",
    "  return analytics.reports().batchGet(\n",
    "      body={\n",
    "        'reportRequests': [\n",
    "        {\n",
    "          'viewId': VIEW_ID,\n",
    "          'dateRanges': [{'startDate': '7daysAgo', 'endDate': 'today'}],\n",
    "          'metrics': [{'expression': 'ga:sessions'}, {'expression': 'ga:users'}],\n",
    "          'dimensions': [{'name': 'ga:country'}, {'name': 'ga:sourceMedium'}]\n",
    "        }]\n",
    "      }\n",
    "  ).execute()"
   ]
  },
  {
   "cell_type": "code",
   "execution_count": 4,
   "metadata": {},
   "outputs": [],
   "source": [
    "def get_source_medium_report(analytics):\n",
    "  \"\"\"Queries the Analytics Reporting API V4.\n",
    "\n",
    "  Args:\n",
    "    analytics: An authorized Analytics Reporting API V4 service object.\n",
    "  Returns:\n",
    "    The Analytics Reporting API V4 response.\n",
    "  \"\"\"\n",
    "  return analytics.reports().batchGet(\n",
    "      body={\n",
    "        'reportRequests': [\n",
    "        {\n",
    "          'viewId': VIEW_ID,\n",
    "          'dateRanges': [{'startDate': '7daysAgo', 'endDate': 'today'}],\n",
    "          'metrics': [{'expression': 'ga:users'}, {'expression': 'ga:sessions'}],\n",
    "          'dimensions': [{'name': 'ga:sourceMedium'}]\n",
    "        }]\n",
    "      }\n",
    "  ).execute()"
   ]
  },
  {
   "cell_type": "code",
   "execution_count": 5,
   "metadata": {},
   "outputs": [],
   "source": [
    "def print_response(response):\n",
    "  \"\"\"Parses and prints the Analytics Reporting API V4 response.\n",
    "\n",
    "  Args:\n",
    "    response: An Analytics Reporting API V4 response.\n",
    "  \"\"\"\n",
    "  for report in response.get('reports', []):\n",
    "    columnHeader = report.get('columnHeader', {})\n",
    "    dimensionHeaders = columnHeader.get('dimensions', [])\n",
    "    metricHeaders = columnHeader.get('metricHeader', {}).get('metricHeaderEntries', [])\n",
    "\n",
    "    for row in report.get('data', {}).get('rows', []):\n",
    "      dimensions = row.get('dimensions', [])\n",
    "      dateRangeValues = row.get('metrics', [])\n",
    "\n",
    "      for header, dimension in zip(dimensionHeaders, dimensions):\n",
    "        print(header + ': ', dimension)\n",
    "\n",
    "      for i, values in enumerate(dateRangeValues):\n",
    "        print('Date range:', str(i))\n",
    "        for metricHeader, value in zip(metricHeaders, values.get('values')):\n",
    "          print(metricHeader.get('name') + ':', value)"
   ]
  },
  {
   "source": [
    "def main():\n",
    "  analytics = initialize_analyticsreporting()\n",
    "  response = get_report(analytics)\n",
    "  print_response(response)"
   ],
   "cell_type": "code",
   "metadata": {},
   "execution_count": 6,
   "outputs": []
  },
  {
   "cell_type": "code",
   "execution_count": 7,
   "metadata": {},
   "outputs": [],
   "source": [
    "analytics = initialize_analyticsreporting()\n",
    "response = get_report(analytics)"
   ]
  },
  {
   "cell_type": "code",
   "execution_count": 8,
   "metadata": {},
   "outputs": [
    {
     "output_type": "stream",
     "name": "stdout",
     "text": [
      "{'dimensions': ['ga:country', 'ga:sourceMedium'], 'metricHeader': {'metricHeaderEntries': [{'name': 'ga:sessions', 'type': 'INTEGER'}, {'name': 'ga:users', 'type': 'INTEGER'}]}}\nga:country\nga:sourceMedium\nINTEGER\nINTEGER\n"
     ]
    }
   ],
   "source": [
    "for report in response.get('reports', []):\n",
    "    print(report.get('columnHeader'))\n",
    "    for dimensionName in report.get('columnHeader').get('dimensions'):\n",
    "        print(dimensionName)\n",
    "    for metricName in report.get('columnHeader').get('metricHeader').get('metricHeaderEntries'):\n",
    "        print(metricName.get('type'))"
   ]
  },
  {
   "cell_type": "code",
   "execution_count": 9,
   "metadata": {},
   "outputs": [],
   "source": [
    "analytics = initialize_analyticsreporting()\n",
    "response_country = get_report(analytics)\n",
    "response_source_medium = get_source_medium_report(analytics)"
   ]
  },
  {
   "cell_type": "code",
   "execution_count": 10,
   "metadata": {
    "tags": []
   },
   "outputs": [],
   "source": [
    "data_rows = []\n",
    "col_names = []\n",
    "metric_types = []\n",
    "\n",
    "for report in response.get('reports', []):\n",
    "    columnHeader = report.get('columnHeader', [])\n",
    "    dimensionHeaders = columnHeader.get('dimensions', [])\n",
    "    metricHeaders = columnHeader.get('metricHeader', {}).get('metricHeaderEntries', [])\n",
    "\n",
    "    for dimensionName in dimensionHeaders:\n",
    "        col_names.append(dimensionName)\n",
    "\n",
    "    for metricName in metricHeaders:\n",
    "        col_names.append(metricName.get('name'))\n",
    "\n",
    "    for metricType in metricHeaders:\n",
    "        metric_types.append(metricType.get('type'))\n",
    "\n",
    "    for row in report.get('data', {}).get('rows', []):\n",
    "        dimensions = row.get('dimensions', [])\n",
    "        metricHeaders = row.get('metrics', [])\n",
    "        data_row = []\n",
    "\n",
    "        for dimension in dimensions:\n",
    "            data_row.append(dimension)\n",
    "\n",
    "        for idx, value in enumerate(metricHeaders[0].get('values'), start=0):\n",
    "            if metric_types[idx] == 'INTEGER':\n",
    "                data_row.append(int(value))\n",
    "            elif metric_types[idx] == 'FLOAT':\n",
    "                data_row.append(float(value))\n",
    "            else:\n",
    "                data_row.append(value)\n",
    "        data_rows.append(data_row)"
   ]
  },
  {
   "cell_type": "code",
   "execution_count": 11,
   "metadata": {
    "tags": []
   },
   "outputs": [],
   "source": [
    "def create_dataframe(response):\n",
    "    data_rows = []\n",
    "    col_names = []\n",
    "\n",
    "    for report in response.get('reports', []):\n",
    "        columnHeader = report.get('columnHeader', [])\n",
    "        dimensionHeaders = columnHeader.get('dimensions', [])\n",
    "        metricHeaders = columnHeader.get('metricHeader', {}).get('metricHeaderEntries', [])\n",
    "\n",
    "        for dimensionName in dimensionHeaders:\n",
    "            col_names.append(dimensionName)\n",
    "\n",
    "        for metricName in metricHeaders:\n",
    "            col_names.append(metricName.get('name'))\n",
    "\n",
    "        for metricType in metricHeaders:\n",
    "            metric_types.append(metricType.get('type'))\n",
    "\n",
    "        for row in report.get('data', {}).get('rows', []):\n",
    "            dimensions = row.get('dimensions', [])\n",
    "            metricHeaders = row.get('metrics', [])\n",
    "            data_row = []\n",
    "\n",
    "            for dimension in dimensions:\n",
    "                data_row.append(dimension)\n",
    "\n",
    "            for idx, value in enumerate(metricHeaders[0].get('values'), start=0):\n",
    "                if metric_types[idx] == 'INTEGER':\n",
    "                    data_row.append(int(value))\n",
    "                elif metric_types[idx] == 'FLOAT':\n",
    "                    data_row.append(float(value))\n",
    "                else:\n",
    "                    data_row.append(value)\n",
    "\n",
    "            data_rows.append(data_row)\n",
    "\n",
    "    return pd.DataFrame(data_rows, columns=col_names)"
   ]
  },
  {
   "cell_type": "code",
   "execution_count": 12,
   "metadata": {},
   "outputs": [],
   "source": [
    "df_country = create_dataframe(response_country)"
   ]
  },
  {
   "cell_type": "code",
   "execution_count": 13,
   "metadata": {},
   "outputs": [],
   "source": [
    "df_source_medium = create_dataframe(response_source_medium)"
   ]
  },
  {
   "cell_type": "code",
   "execution_count": 14,
   "metadata": {},
   "outputs": [
    {
     "output_type": "stream",
     "name": "stdout",
     "text": [
      "<class 'pandas.core.frame.DataFrame'>\nRangeIndex: 638 entries, 0 to 637\nData columns (total 4 columns):\n #   Column           Non-Null Count  Dtype \n---  ------           --------------  ----- \n 0   ga:country       638 non-null    object\n 1   ga:sourceMedium  638 non-null    object\n 2   ga:sessions      638 non-null    int64 \n 3   ga:users         638 non-null    int64 \ndtypes: int64(2), object(2)\nmemory usage: 20.1+ KB\n"
     ]
    }
   ],
   "source": [
    "df_country.info()"
   ]
  },
  {
   "cell_type": "code",
   "execution_count": 15,
   "metadata": {},
   "outputs": [
    {
     "output_type": "stream",
     "name": "stdout",
     "text": [
      "<class 'pandas.core.frame.DataFrame'>\nRangeIndex: 139 entries, 0 to 138\nData columns (total 3 columns):\n #   Column           Non-Null Count  Dtype \n---  ------           --------------  ----- \n 0   ga:sourceMedium  139 non-null    object\n 1   ga:users         139 non-null    int64 \n 2   ga:sessions      139 non-null    int64 \ndtypes: int64(2), object(1)\nmemory usage: 3.4+ KB\n"
     ]
    }
   ],
   "source": [
    "df_source_medium.info()"
   ]
  },
  {
   "cell_type": "code",
   "execution_count": 18,
   "metadata": {},
   "outputs": [
    {
     "output_type": "execute_result",
     "data": {
      "text/plain": [
       "    ga:country                         ga:sourceMedium  ga:sessions  ga:users\n",
       "199  Indonesia                         facebook / paid        97968     77988\n",
       "202  Indonesia                        google / organic        15191     13705\n",
       "185  Indonesia                       (direct) / (none)         1768      1566\n",
       "223  Indonesia                            tv / qr-code          864       523\n",
       "197  Indonesia                    facebook / (not set)          381       337\n",
       "216  Indonesia               m.facebook.com / referral          128       124\n",
       "206  Indonesia                     instagram / organic          167       122\n",
       "224  Indonesia                       vst.to / referral          167       105\n",
       "198  Indonesia                      facebook / organic           47        43\n",
       "211  Indonesia               l.facebook.com / referral           20        20\n",
       "220  Indonesia                pinterest.com / referral           10        10\n",
       "192  Indonesia                             dable / cpc           28         9\n",
       "225  Indonesia                         yahoo / organic            9         8\n",
       "212  Indonesia              l.instagram.com / referral           10         7\n",
       "190  Indonesia                          bing / organic            9         7\n",
       "208  Indonesia             instagram stories / organic            5         4\n",
       "221  Indonesia                         t.co / referral            4         4\n",
       "195  Indonesia           en.m.wikipedia.org / referral            6         4\n",
       "222  Indonesia            taboola-recipe-id / referral            5         3\n",
       "187  Indonesia                      afn.com / referral            2         2\n",
       "188  Indonesia                 api.dable.io / referral            4         2\n",
       "214  Indonesia               localhost:9000 / referral            4         2\n",
       "205  Indonesia             id.wikipedia.org / referral            2         2\n",
       "193  Indonesia                    duckduckgo / organic            3         2\n",
       "203  Indonesia             id.pinterest.com / referral            2         2\n",
       "207  Indonesia                        instagram / paid            1         1\n",
       "218  Indonesia          optimize.google.com / referral           14         1\n",
       "200  Indonesia                   facebook / video-link            1         1\n",
       "201  Indonesia                 facebook.com / referral            1         1\n",
       "194  Indonesia                    ecosia.org / organic            1         1\n",
       "189  Indonesia         asianfoodchannel.com / referral            1         1\n",
       "219  Indonesia                panasonic.com / referral            1         1\n",
       "217  Indonesia  oliveandlattehomelounge.com / referral            1         1\n",
       "209  Indonesia        int.search.tb.ask.com / referral            1         1\n",
       "204  Indonesia          id.search.yahoo.com / referral            1         1\n",
       "215  Indonesia                  lyngsat.com / referral            1         1\n",
       "186  Indonesia            10.225.1.124:4503 / referral           11         1\n",
       "213  Indonesia               localhost:4502 / referral            8         1\n",
       "191  Indonesia              cookmate.online / referral            1         1\n",
       "210  Indonesia              keep.google.com / referral            1         1\n",
       "196  Indonesia             en.wikipedia.org / referral            1         1"
      ],
      "text/html": "<div>\n<style scoped>\n    .dataframe tbody tr th:only-of-type {\n        vertical-align: middle;\n    }\n\n    .dataframe tbody tr th {\n        vertical-align: top;\n    }\n\n    .dataframe thead th {\n        text-align: right;\n    }\n</style>\n<table border=\"1\" class=\"dataframe\">\n  <thead>\n    <tr style=\"text-align: right;\">\n      <th></th>\n      <th>ga:country</th>\n      <th>ga:sourceMedium</th>\n      <th>ga:sessions</th>\n      <th>ga:users</th>\n    </tr>\n  </thead>\n  <tbody>\n    <tr>\n      <th>199</th>\n      <td>Indonesia</td>\n      <td>facebook / paid</td>\n      <td>97968</td>\n      <td>77988</td>\n    </tr>\n    <tr>\n      <th>202</th>\n      <td>Indonesia</td>\n      <td>google / organic</td>\n      <td>15191</td>\n      <td>13705</td>\n    </tr>\n    <tr>\n      <th>185</th>\n      <td>Indonesia</td>\n      <td>(direct) / (none)</td>\n      <td>1768</td>\n      <td>1566</td>\n    </tr>\n    <tr>\n      <th>223</th>\n      <td>Indonesia</td>\n      <td>tv / qr-code</td>\n      <td>864</td>\n      <td>523</td>\n    </tr>\n    <tr>\n      <th>197</th>\n      <td>Indonesia</td>\n      <td>facebook / (not set)</td>\n      <td>381</td>\n      <td>337</td>\n    </tr>\n    <tr>\n      <th>216</th>\n      <td>Indonesia</td>\n      <td>m.facebook.com / referral</td>\n      <td>128</td>\n      <td>124</td>\n    </tr>\n    <tr>\n      <th>206</th>\n      <td>Indonesia</td>\n      <td>instagram / organic</td>\n      <td>167</td>\n      <td>122</td>\n    </tr>\n    <tr>\n      <th>224</th>\n      <td>Indonesia</td>\n      <td>vst.to / referral</td>\n      <td>167</td>\n      <td>105</td>\n    </tr>\n    <tr>\n      <th>198</th>\n      <td>Indonesia</td>\n      <td>facebook / organic</td>\n      <td>47</td>\n      <td>43</td>\n    </tr>\n    <tr>\n      <th>211</th>\n      <td>Indonesia</td>\n      <td>l.facebook.com / referral</td>\n      <td>20</td>\n      <td>20</td>\n    </tr>\n    <tr>\n      <th>220</th>\n      <td>Indonesia</td>\n      <td>pinterest.com / referral</td>\n      <td>10</td>\n      <td>10</td>\n    </tr>\n    <tr>\n      <th>192</th>\n      <td>Indonesia</td>\n      <td>dable / cpc</td>\n      <td>28</td>\n      <td>9</td>\n    </tr>\n    <tr>\n      <th>225</th>\n      <td>Indonesia</td>\n      <td>yahoo / organic</td>\n      <td>9</td>\n      <td>8</td>\n    </tr>\n    <tr>\n      <th>212</th>\n      <td>Indonesia</td>\n      <td>l.instagram.com / referral</td>\n      <td>10</td>\n      <td>7</td>\n    </tr>\n    <tr>\n      <th>190</th>\n      <td>Indonesia</td>\n      <td>bing / organic</td>\n      <td>9</td>\n      <td>7</td>\n    </tr>\n    <tr>\n      <th>208</th>\n      <td>Indonesia</td>\n      <td>instagram stories / organic</td>\n      <td>5</td>\n      <td>4</td>\n    </tr>\n    <tr>\n      <th>221</th>\n      <td>Indonesia</td>\n      <td>t.co / referral</td>\n      <td>4</td>\n      <td>4</td>\n    </tr>\n    <tr>\n      <th>195</th>\n      <td>Indonesia</td>\n      <td>en.m.wikipedia.org / referral</td>\n      <td>6</td>\n      <td>4</td>\n    </tr>\n    <tr>\n      <th>222</th>\n      <td>Indonesia</td>\n      <td>taboola-recipe-id / referral</td>\n      <td>5</td>\n      <td>3</td>\n    </tr>\n    <tr>\n      <th>187</th>\n      <td>Indonesia</td>\n      <td>afn.com / referral</td>\n      <td>2</td>\n      <td>2</td>\n    </tr>\n    <tr>\n      <th>188</th>\n      <td>Indonesia</td>\n      <td>api.dable.io / referral</td>\n      <td>4</td>\n      <td>2</td>\n    </tr>\n    <tr>\n      <th>214</th>\n      <td>Indonesia</td>\n      <td>localhost:9000 / referral</td>\n      <td>4</td>\n      <td>2</td>\n    </tr>\n    <tr>\n      <th>205</th>\n      <td>Indonesia</td>\n      <td>id.wikipedia.org / referral</td>\n      <td>2</td>\n      <td>2</td>\n    </tr>\n    <tr>\n      <th>193</th>\n      <td>Indonesia</td>\n      <td>duckduckgo / organic</td>\n      <td>3</td>\n      <td>2</td>\n    </tr>\n    <tr>\n      <th>203</th>\n      <td>Indonesia</td>\n      <td>id.pinterest.com / referral</td>\n      <td>2</td>\n      <td>2</td>\n    </tr>\n    <tr>\n      <th>207</th>\n      <td>Indonesia</td>\n      <td>instagram / paid</td>\n      <td>1</td>\n      <td>1</td>\n    </tr>\n    <tr>\n      <th>218</th>\n      <td>Indonesia</td>\n      <td>optimize.google.com / referral</td>\n      <td>14</td>\n      <td>1</td>\n    </tr>\n    <tr>\n      <th>200</th>\n      <td>Indonesia</td>\n      <td>facebook / video-link</td>\n      <td>1</td>\n      <td>1</td>\n    </tr>\n    <tr>\n      <th>201</th>\n      <td>Indonesia</td>\n      <td>facebook.com / referral</td>\n      <td>1</td>\n      <td>1</td>\n    </tr>\n    <tr>\n      <th>194</th>\n      <td>Indonesia</td>\n      <td>ecosia.org / organic</td>\n      <td>1</td>\n      <td>1</td>\n    </tr>\n    <tr>\n      <th>189</th>\n      <td>Indonesia</td>\n      <td>asianfoodchannel.com / referral</td>\n      <td>1</td>\n      <td>1</td>\n    </tr>\n    <tr>\n      <th>219</th>\n      <td>Indonesia</td>\n      <td>panasonic.com / referral</td>\n      <td>1</td>\n      <td>1</td>\n    </tr>\n    <tr>\n      <th>217</th>\n      <td>Indonesia</td>\n      <td>oliveandlattehomelounge.com / referral</td>\n      <td>1</td>\n      <td>1</td>\n    </tr>\n    <tr>\n      <th>209</th>\n      <td>Indonesia</td>\n      <td>int.search.tb.ask.com / referral</td>\n      <td>1</td>\n      <td>1</td>\n    </tr>\n    <tr>\n      <th>204</th>\n      <td>Indonesia</td>\n      <td>id.search.yahoo.com / referral</td>\n      <td>1</td>\n      <td>1</td>\n    </tr>\n    <tr>\n      <th>215</th>\n      <td>Indonesia</td>\n      <td>lyngsat.com / referral</td>\n      <td>1</td>\n      <td>1</td>\n    </tr>\n    <tr>\n      <th>186</th>\n      <td>Indonesia</td>\n      <td>10.225.1.124:4503 / referral</td>\n      <td>11</td>\n      <td>1</td>\n    </tr>\n    <tr>\n      <th>213</th>\n      <td>Indonesia</td>\n      <td>localhost:4502 / referral</td>\n      <td>8</td>\n      <td>1</td>\n    </tr>\n    <tr>\n      <th>191</th>\n      <td>Indonesia</td>\n      <td>cookmate.online / referral</td>\n      <td>1</td>\n      <td>1</td>\n    </tr>\n    <tr>\n      <th>210</th>\n      <td>Indonesia</td>\n      <td>keep.google.com / referral</td>\n      <td>1</td>\n      <td>1</td>\n    </tr>\n    <tr>\n      <th>196</th>\n      <td>Indonesia</td>\n      <td>en.wikipedia.org / referral</td>\n      <td>1</td>\n      <td>1</td>\n    </tr>\n  </tbody>\n</table>\n</div>"
     },
     "metadata": {},
     "execution_count": 18
    }
   ],
   "source": [
    "df_country[df_country['ga:country'] == 'Indonesia'].sort_values('ga:users', ascending=False)"
   ]
  },
  {
   "cell_type": "code",
   "execution_count": 17,
   "metadata": {},
   "outputs": [
    {
     "output_type": "execute_result",
     "data": {
      "text/plain": [
       "                                     ga:sourceMedium  ga:users  ga:sessions\n",
       "0                                  (direct) / (none)     13860        14969\n",
       "1                        10.225.0.24:4503 / referral         1            2\n",
       "2                       10.225.1.124:4503 / referral         1           13\n",
       "3                      151.ddbstaging.com / referral         1            9\n",
       "4                                     adk / facebook         1            1\n",
       "..                                               ...       ...          ...\n",
       "134                           workona.com / referral         1            2\n",
       "135  www-pinterest-com.cdn.ampproject.org / referral         3            3\n",
       "136                                  yahoo / organic       159          177\n",
       "137                           youtube.com / referral         1            1\n",
       "138                                      zalo / zalo         2            2\n",
       "\n",
       "[139 rows x 3 columns]"
      ],
      "text/html": "<div>\n<style scoped>\n    .dataframe tbody tr th:only-of-type {\n        vertical-align: middle;\n    }\n\n    .dataframe tbody tr th {\n        vertical-align: top;\n    }\n\n    .dataframe thead th {\n        text-align: right;\n    }\n</style>\n<table border=\"1\" class=\"dataframe\">\n  <thead>\n    <tr style=\"text-align: right;\">\n      <th></th>\n      <th>ga:sourceMedium</th>\n      <th>ga:users</th>\n      <th>ga:sessions</th>\n    </tr>\n  </thead>\n  <tbody>\n    <tr>\n      <th>0</th>\n      <td>(direct) / (none)</td>\n      <td>13860</td>\n      <td>14969</td>\n    </tr>\n    <tr>\n      <th>1</th>\n      <td>10.225.0.24:4503 / referral</td>\n      <td>1</td>\n      <td>2</td>\n    </tr>\n    <tr>\n      <th>2</th>\n      <td>10.225.1.124:4503 / referral</td>\n      <td>1</td>\n      <td>13</td>\n    </tr>\n    <tr>\n      <th>3</th>\n      <td>151.ddbstaging.com / referral</td>\n      <td>1</td>\n      <td>9</td>\n    </tr>\n    <tr>\n      <th>4</th>\n      <td>adk / facebook</td>\n      <td>1</td>\n      <td>1</td>\n    </tr>\n    <tr>\n      <th>...</th>\n      <td>...</td>\n      <td>...</td>\n      <td>...</td>\n    </tr>\n    <tr>\n      <th>134</th>\n      <td>workona.com / referral</td>\n      <td>1</td>\n      <td>2</td>\n    </tr>\n    <tr>\n      <th>135</th>\n      <td>www-pinterest-com.cdn.ampproject.org / referral</td>\n      <td>3</td>\n      <td>3</td>\n    </tr>\n    <tr>\n      <th>136</th>\n      <td>yahoo / organic</td>\n      <td>159</td>\n      <td>177</td>\n    </tr>\n    <tr>\n      <th>137</th>\n      <td>youtube.com / referral</td>\n      <td>1</td>\n      <td>1</td>\n    </tr>\n    <tr>\n      <th>138</th>\n      <td>zalo / zalo</td>\n      <td>2</td>\n      <td>2</td>\n    </tr>\n  </tbody>\n</table>\n<p>139 rows × 3 columns</p>\n</div>"
     },
     "metadata": {},
     "execution_count": 17
    }
   ],
   "source": [
    "df_source_medium"
   ]
  }
 ],
 "metadata": {
  "kernelspec": {
   "display_name": "Python 3.7.6 64-bit ('env': venv)",
   "language": "python",
   "name": "python37664bitenvvenv920adb247b064c1c958f6124be195223"
  },
  "language_info": {
   "codemirror_mode": {
    "name": "ipython",
    "version": 3
   },
   "file_extension": ".py",
   "mimetype": "text/x-python",
   "name": "python",
   "nbconvert_exporter": "python",
   "pygments_lexer": "ipython3",
   "version": "3.7.6-final"
  }
 },
 "nbformat": 4,
 "nbformat_minor": 4
}